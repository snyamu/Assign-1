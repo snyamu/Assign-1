{
  "nbformat": 4,
  "nbformat_minor": 0,
  "metadata": {
    "colab": {
      "name": "assign2.ipynb",
      "provenance": []
    },
    "kernelspec": {
      "name": "python3",
      "display_name": "Python 3"
    },
    "language_info": {
      "name": "python"
    }
  },
  "cells": [
    {
      "cell_type": "code",
      "metadata": {
        "colab": {
          "base_uri": "https://localhost:8080/"
        },
        "id": "4gBxmCQOD9hF",
        "outputId": "0c9bdc7c-58c2-4a3b-b9cb-a78a921e12d6"
      },
      "source": [
        "names=input(\"first and last names\")\n",
        "name=input(\"last name\")\n",
        "country=input(\"country of origin\")\n",
        "job=input(\"nature of the current job\")\n",
        "email=input(\"email address\")\n",
        "phone=input(\"phone number\")\n",
        "city=input(\"current city of residence\")\n",
        "address=input(\"Mailing address\")\n",
        "print(names)\n",
        "print(\"Name:\" , names)\n",
        "print(country)\n",
        "print(job)\n",
        "print(email)\n",
        "print(phone)\n",
        "print(city)\n",
        "print(address)\n",
        "print()\n"
      ],
      "execution_count": 1,
      "outputs": [
        {
          "output_type": "stream",
          "text": [
            "first and last namesnnnnnn\n",
            "last namennnnn\n",
            "country of originnnn\n",
            "nature of the current jobnnnnn\n",
            "email addressnnnnn\n",
            "phone numbernnnn\n",
            "current city of residencennnn\n",
            "Mailing addressnnnn\n",
            "nnnnnn\n",
            "Name: nnnnnn\n",
            "nnn\n",
            "nnnnn\n",
            "nnnnn\n",
            "nnnn\n",
            "nnnn\n",
            "nnnn\n",
            "\n"
          ],
          "name": "stdout"
        }
      ]
    }
  ]
}